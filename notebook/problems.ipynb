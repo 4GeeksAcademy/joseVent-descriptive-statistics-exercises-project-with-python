{
    "cells": [
        {
            "cell_type": "markdown",
            "id": "ac622319",
            "metadata": {},
            "source": [
                "# Descriptive Statistics Problems"
            ]
        },
        {
            "cell_type": "markdown",
            "id": "aa8993e4",
            "metadata": {},
            "source": [
                "### Exercise 1"
            ]
        },
        {
            "cell_type": "markdown",
            "id": "5e0ab0d5",
            "metadata": {},
            "source": [
                "As right now, you are familliar with numpy, we are going to use numpy to get some data statistics.\n",
                "\n",
                "First, lets create an array of 20 elements distributed normally (Gaussian):\n",
                "\n",
                "Use the np.random.normal function to create some data, using 0,1,20 as parameters because we want a one dimentional array of 20 numbers distributed normally (Gaussian)"
            ]
        },
        {
            "cell_type": "code",
            "execution_count": 1,
            "id": "34720ab6",
            "metadata": {},
            "outputs": [
                {
                    "name": "stdout",
                    "output_type": "stream",
                    "text": [
                        "Normal Array: [ 0.49671415 -0.1382643   0.64768854  1.52302986 -0.23415337 -0.23413696\n",
                        "  1.57921282  0.76743473 -0.46947439  0.54256004 -0.46341769 -0.46572975\n",
                        "  0.24196227 -1.91328024 -1.72491783 -0.56228753 -1.01283112  0.31424733\n",
                        " -0.90802408 -1.4123037 ]\n"
                    ]
                }
            ],
            "source": [
                "import numpy as np\n",
                "\n",
                "# Set seed to get consistent results\n",
                "np.random.seed(42)\n",
                "\n",
                "# Create the data\n",
                "mean = 0    # Mean of the distribution\n",
                "std_dev = 1 # Standard deviation of the distribution\n",
                "array_size = 20\n",
                "\n",
                "normal_array = np.random.normal(mean, std_dev, array_size)\n",
                "\n",
                "# Print results\n",
                "print(\"Normal Array:\", normal_array)\n"
            ]
        },
        {
            "cell_type": "code",
            "execution_count": 3,
            "id": "49c55822",
            "metadata": {},
            "outputs": [
                {
                    "name": "stdout",
                    "output_type": "stream",
                    "text": [
                        "-0.17129856144182892\n"
                    ]
                }
            ],
            "source": [
                "#Use numpy to get the mean of your data\n",
                "\n",
                "mean_value = np.mean(normal_array)\n",
                "\n",
                "print(mean_value)"
            ]
        },
        {
            "cell_type": "code",
            "execution_count": 5,
            "id": "03529459",
            "metadata": {},
            "outputs": [
                {
                    "name": "stdout",
                    "output_type": "stream",
                    "text": [
                        "0.8755718414721738\n"
                    ]
                }
            ],
            "source": [
                "#get the variance of your data\n",
                "\n",
                "variance = np.var(normal_array)\n",
                "\n",
                "print(variance)"
            ]
        },
        {
            "cell_type": "code",
            "execution_count": 7,
            "id": "e53f30c5",
            "metadata": {},
            "outputs": [
                {
                    "name": "stdout",
                    "output_type": "stream",
                    "text": [
                        "0.9357199588937781\n"
                    ]
                }
            ],
            "source": [
                "# Standard deviation\n",
                "stdev = np.std(normal_array)\n",
                "\n",
                "print(stdev)"
            ]
        },
        {
            "cell_type": "code",
            "execution_count": 4,
            "id": "9bce852f",
            "metadata": {},
            "outputs": [
                {
                    "name": "stdout",
                    "output_type": "stream",
                    "text": [
                        "Modes: -1.913280244657798\n",
                        "Counts: 1\n"
                    ]
                }
            ],
            "source": [
                "#import libraries and print the mode\n",
                "import numpy as np\n",
                "import scipy\n",
                "from scipy import stats\n",
                "\n",
                "mode_result = stats.mode(normal_array)\n",
                "\n",
                "\n",
                "\n",
                "\n",
                "\n",
                "# Calculate the mode using SciPy's mode function\n",
                "mode_result = stats.mode(normal_array)\n",
                "\n",
                "# Print the mode(s)\n",
                "modes = mode_result.mode\n",
                "counts = mode_result.count\n",
                "\n",
                "print(\"Modes:\", modes)\n",
                "print(\"Counts:\", counts)\n",
                "\n",
                "\n",
                "# Mode for continuous array\n",
                "\n"
            ]
        },
        {
            "cell_type": "code",
            "execution_count": 5,
            "id": "c682cb6e",
            "metadata": {},
            "outputs": [
                {
                    "name": "stdout",
                    "output_type": "stream",
                    "text": [
                        "-0.23414516583625827\n"
                    ]
                }
            ],
            "source": [
                "# median \n",
                "\n",
                "mediana = np.median(normal_array)\n",
                "\n",
                "print(mediana)\n",
                "\n"
            ]
        },
        {
            "cell_type": "code",
            "execution_count": 20,
            "id": "39c3fabd",
            "metadata": {},
            "outputs": [
                {
                    "name": "stdout",
                    "output_type": "stream",
                    "text": [
                        "1st Quartile (Q1): -0.6487216658110322\n",
                        "2nd Quartile (Q2, Median): -0.23414516583625827\n",
                        "3rd Quartile (Q3): 0.5081756256549157\n"
                    ]
                }
            ],
            "source": [
                "# Print the Quantiles\n",
                "# Calculate quartiles using numpy.percentile()\n",
                "q1 = np.percentile(normal_array, 25)\n",
                "q2 = np.percentile(normal_array, 50)  # Median (Q2)\n",
                "q3 = np.percentile(normal_array, 75)\n",
                "\n",
                "# Print the quartiles\n",
                "print(\"1st Quartile (Q1):\", q1)\n",
                "print(\"2nd Quartile (Q2, Median):\", q2)\n",
                "print(\"3rd Quartile (Q3):\", q3)\n",
                "\n",
                "\n",
                "# This match with np.median, why?\n",
                "porque el segundo quantil es equivalente de la mediana \n"
            ]
        },
        {
            "cell_type": "markdown",
            "id": "46c70c3d",
            "metadata": {},
            "source": [
                "### Exercise 2\n",
                "\n",
                "Write a Python program to calculate the standard deviation of the following data:\n",
                "```py\n",
                "data = [4, 2, 5, 8, 6]\n",
                "```"
            ]
        },
        {
            "cell_type": "code",
            "execution_count": 6,
            "id": "d590308e",
            "metadata": {},
            "outputs": [
                {
                    "name": "stdout",
                    "output_type": "stream",
                    "text": [
                        "Data: [4, 2, 5, 8, 6]\n",
                        "Standard Deviation: 2.0\n"
                    ]
                }
            ],
            "source": [
                "import math\n",
                "import sys\n",
                "\n",
                "# Define the standard deviation function\n",
                "def sd_calc(data):\n",
                "    n = len(data)\n",
                "    mean = avg_calc(data)\n",
                "    sum_diff_squared = sum((x - mean) ** 2 for x in data)\n",
                "    variance = sum_diff_squared / n\n",
                "    std_dev = math.sqrt(variance)\n",
                "    return std_dev\n",
                "\n",
                "# Define the average function\n",
                "def avg_calc(ls):\n",
                "    total = sum(ls)\n",
                "    count = len(ls)\n",
                "    return total / count\n",
                "\n",
                "data = [4, 2, 5, 8, 6]\n",
                "\n",
                "# Print the data\n",
                "print(\"Data:\", data)\n",
                "\n",
                "# Calculate and print the standard deviation of the data\n",
                "std_deviation = sd_calc(data)\n",
                "print(\"Standard Deviation:\", std_deviation)\n"
            ]
        },
        {
            "cell_type": "markdown",
            "id": "04b71791",
            "metadata": {},
            "source": [
                "Source:\n",
                "\n",
                "https://www.w3resource.com/"
            ]
        }
    ],
    "metadata": {
        "interpreter": {
            "hash": "9248718ffe6ce6938b217e69dbcc175ea21f4c6b28a317e96c05334edae734bb"
        },
        "kernelspec": {
            "display_name": "Python 3.9.12 ('ML-BOOTCAMP')",
            "language": "python",
            "name": "python3"
        },
        "language_info": {
            "codemirror_mode": {
                "name": "ipython",
                "version": 3
            },
            "file_extension": ".py",
            "mimetype": "text/x-python",
            "name": "python",
            "nbconvert_exporter": "python",
            "pygments_lexer": "ipython3",
            "version": "3.11.4"
        }
    },
    "nbformat": 4,
    "nbformat_minor": 5
}
